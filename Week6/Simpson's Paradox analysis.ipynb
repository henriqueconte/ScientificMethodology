{
 "cells": [
  {
   "cell_type": "markdown",
   "id": "05f19ad7",
   "metadata": {},
   "source": [
    "# Analysis around Simpson's Paradox"
   ]
  },
  {
   "cell_type": "markdown",
   "id": "62c183e2",
   "metadata": {},
   "source": [
    "## Context"
   ]
  },
  {
   "cell_type": "markdown",
   "id": "34b82699",
   "metadata": {},
   "source": [
    "In 1972-1974, in Whickham, a town in the north-east of England, located approximately 6.5 kilometres south-west of Newcastle upon Tyne, a survey of one-sixth of the electorate was conducted in order to inform work on thyroid and heart disease (Tunbridge and al. 1977). A continuation of this study was carried out twenty years later. (Vanderpump et al. 1995). Some of the results were related to smoking and whether individuals were still alive at the time of the second study. For the purpose of simplicity, we will restrict the data to women and among these to the 1314 that were categorized as \"smoking currently\" or \"never smoked\". There were relatively few women in the initial survey who smoked but have since quit (162) and very few for which information was not available (18). Survival at 20 years was determined for all women of the first survey."
   ]
  },
  {
   "cell_type": "markdown",
   "id": "15df8c46",
   "metadata": {},
   "source": [
    "## The dataset\n",
    "\n",
    "First, let's study how the dataset looks like:"
   ]
  },
  {
   "cell_type": "code",
   "execution_count": 3,
   "id": "555429db",
   "metadata": {},
   "outputs": [
    {
     "data": {
      "text/html": [
       "<table class=\"dataframe\">\n",
       "<caption>A data.frame: 1314 × 3</caption>\n",
       "<thead>\n",
       "\t<tr><th scope=col>Smoker</th><th scope=col>Status</th><th scope=col>Age</th></tr>\n",
       "\t<tr><th scope=col>&lt;chr&gt;</th><th scope=col>&lt;chr&gt;</th><th scope=col>&lt;dbl&gt;</th></tr>\n",
       "</thead>\n",
       "<tbody>\n",
       "\t<tr><td>Yes</td><td>Alive</td><td>21.0</td></tr>\n",
       "\t<tr><td>Yes</td><td>Alive</td><td>19.3</td></tr>\n",
       "\t<tr><td>No </td><td>Dead </td><td>57.5</td></tr>\n",
       "\t<tr><td>No </td><td>Alive</td><td>47.1</td></tr>\n",
       "\t<tr><td>Yes</td><td>Alive</td><td>81.4</td></tr>\n",
       "\t<tr><td>No </td><td>Alive</td><td>36.8</td></tr>\n",
       "\t<tr><td>No </td><td>Alive</td><td>23.8</td></tr>\n",
       "\t<tr><td>Yes</td><td>Dead </td><td>57.5</td></tr>\n",
       "\t<tr><td>Yes</td><td>Alive</td><td>24.8</td></tr>\n",
       "\t<tr><td>Yes</td><td>Alive</td><td>49.5</td></tr>\n",
       "\t<tr><td>Yes</td><td>Alive</td><td>30.0</td></tr>\n",
       "\t<tr><td>No </td><td>Dead </td><td>66.0</td></tr>\n",
       "\t<tr><td>Yes</td><td>Alive</td><td>49.2</td></tr>\n",
       "\t<tr><td>No </td><td>Alive</td><td>58.4</td></tr>\n",
       "\t<tr><td>No </td><td>Dead </td><td>60.6</td></tr>\n",
       "\t<tr><td>No </td><td>Alive</td><td>25.1</td></tr>\n",
       "\t<tr><td>No </td><td>Alive</td><td>43.5</td></tr>\n",
       "\t<tr><td>No </td><td>Alive</td><td>27.1</td></tr>\n",
       "\t<tr><td>No </td><td>Alive</td><td>58.3</td></tr>\n",
       "\t<tr><td>Yes</td><td>Alive</td><td>65.7</td></tr>\n",
       "\t<tr><td>No </td><td>Dead </td><td>73.2</td></tr>\n",
       "\t<tr><td>Yes</td><td>Alive</td><td>38.3</td></tr>\n",
       "\t<tr><td>No </td><td>Alive</td><td>33.4</td></tr>\n",
       "\t<tr><td>Yes</td><td>Dead </td><td>62.3</td></tr>\n",
       "\t<tr><td>No </td><td>Alive</td><td>18.0</td></tr>\n",
       "\t<tr><td>No </td><td>Alive</td><td>56.2</td></tr>\n",
       "\t<tr><td>Yes</td><td>Alive</td><td>59.2</td></tr>\n",
       "\t<tr><td>No </td><td>Alive</td><td>25.8</td></tr>\n",
       "\t<tr><td>No </td><td>Dead </td><td>36.9</td></tr>\n",
       "\t<tr><td>No </td><td>Alive</td><td>20.2</td></tr>\n",
       "\t<tr><td>⋮</td><td>⋮</td><td>⋮</td></tr>\n",
       "\t<tr><td>Yes</td><td>Dead </td><td>36.0</td></tr>\n",
       "\t<tr><td>Yes</td><td>Alive</td><td>48.3</td></tr>\n",
       "\t<tr><td>No </td><td>Alive</td><td>63.1</td></tr>\n",
       "\t<tr><td>No </td><td>Alive</td><td>60.8</td></tr>\n",
       "\t<tr><td>Yes</td><td>Dead </td><td>39.3</td></tr>\n",
       "\t<tr><td>No </td><td>Alive</td><td>36.7</td></tr>\n",
       "\t<tr><td>No </td><td>Alive</td><td>63.8</td></tr>\n",
       "\t<tr><td>No </td><td>Dead </td><td>71.3</td></tr>\n",
       "\t<tr><td>No </td><td>Alive</td><td>57.7</td></tr>\n",
       "\t<tr><td>No </td><td>Alive</td><td>63.2</td></tr>\n",
       "\t<tr><td>No </td><td>Alive</td><td>46.6</td></tr>\n",
       "\t<tr><td>Yes</td><td>Dead </td><td>82.4</td></tr>\n",
       "\t<tr><td>Yes</td><td>Alive</td><td>38.3</td></tr>\n",
       "\t<tr><td>Yes</td><td>Alive</td><td>32.7</td></tr>\n",
       "\t<tr><td>No </td><td>Alive</td><td>39.7</td></tr>\n",
       "\t<tr><td>Yes</td><td>Dead </td><td>60.0</td></tr>\n",
       "\t<tr><td>No </td><td>Dead </td><td>71.0</td></tr>\n",
       "\t<tr><td>No </td><td>Alive</td><td>20.5</td></tr>\n",
       "\t<tr><td>No </td><td>Alive</td><td>44.4</td></tr>\n",
       "\t<tr><td>Yes</td><td>Alive</td><td>31.2</td></tr>\n",
       "\t<tr><td>Yes</td><td>Alive</td><td>47.8</td></tr>\n",
       "\t<tr><td>Yes</td><td>Alive</td><td>60.9</td></tr>\n",
       "\t<tr><td>No </td><td>Dead </td><td>61.4</td></tr>\n",
       "\t<tr><td>Yes</td><td>Alive</td><td>43.0</td></tr>\n",
       "\t<tr><td>No </td><td>Alive</td><td>42.1</td></tr>\n",
       "\t<tr><td>Yes</td><td>Alive</td><td>35.9</td></tr>\n",
       "\t<tr><td>No </td><td>Alive</td><td>22.3</td></tr>\n",
       "\t<tr><td>Yes</td><td>Dead </td><td>62.1</td></tr>\n",
       "\t<tr><td>No </td><td>Dead </td><td>88.6</td></tr>\n",
       "\t<tr><td>No </td><td>Alive</td><td>39.1</td></tr>\n",
       "</tbody>\n",
       "</table>\n"
      ],
      "text/latex": [
       "A data.frame: 1314 × 3\n",
       "\\begin{tabular}{lll}\n",
       " Smoker & Status & Age\\\\\n",
       " <chr> & <chr> & <dbl>\\\\\n",
       "\\hline\n",
       "\t Yes & Alive & 21.0\\\\\n",
       "\t Yes & Alive & 19.3\\\\\n",
       "\t No  & Dead  & 57.5\\\\\n",
       "\t No  & Alive & 47.1\\\\\n",
       "\t Yes & Alive & 81.4\\\\\n",
       "\t No  & Alive & 36.8\\\\\n",
       "\t No  & Alive & 23.8\\\\\n",
       "\t Yes & Dead  & 57.5\\\\\n",
       "\t Yes & Alive & 24.8\\\\\n",
       "\t Yes & Alive & 49.5\\\\\n",
       "\t Yes & Alive & 30.0\\\\\n",
       "\t No  & Dead  & 66.0\\\\\n",
       "\t Yes & Alive & 49.2\\\\\n",
       "\t No  & Alive & 58.4\\\\\n",
       "\t No  & Dead  & 60.6\\\\\n",
       "\t No  & Alive & 25.1\\\\\n",
       "\t No  & Alive & 43.5\\\\\n",
       "\t No  & Alive & 27.1\\\\\n",
       "\t No  & Alive & 58.3\\\\\n",
       "\t Yes & Alive & 65.7\\\\\n",
       "\t No  & Dead  & 73.2\\\\\n",
       "\t Yes & Alive & 38.3\\\\\n",
       "\t No  & Alive & 33.4\\\\\n",
       "\t Yes & Dead  & 62.3\\\\\n",
       "\t No  & Alive & 18.0\\\\\n",
       "\t No  & Alive & 56.2\\\\\n",
       "\t Yes & Alive & 59.2\\\\\n",
       "\t No  & Alive & 25.8\\\\\n",
       "\t No  & Dead  & 36.9\\\\\n",
       "\t No  & Alive & 20.2\\\\\n",
       "\t ⋮ & ⋮ & ⋮\\\\\n",
       "\t Yes & Dead  & 36.0\\\\\n",
       "\t Yes & Alive & 48.3\\\\\n",
       "\t No  & Alive & 63.1\\\\\n",
       "\t No  & Alive & 60.8\\\\\n",
       "\t Yes & Dead  & 39.3\\\\\n",
       "\t No  & Alive & 36.7\\\\\n",
       "\t No  & Alive & 63.8\\\\\n",
       "\t No  & Dead  & 71.3\\\\\n",
       "\t No  & Alive & 57.7\\\\\n",
       "\t No  & Alive & 63.2\\\\\n",
       "\t No  & Alive & 46.6\\\\\n",
       "\t Yes & Dead  & 82.4\\\\\n",
       "\t Yes & Alive & 38.3\\\\\n",
       "\t Yes & Alive & 32.7\\\\\n",
       "\t No  & Alive & 39.7\\\\\n",
       "\t Yes & Dead  & 60.0\\\\\n",
       "\t No  & Dead  & 71.0\\\\\n",
       "\t No  & Alive & 20.5\\\\\n",
       "\t No  & Alive & 44.4\\\\\n",
       "\t Yes & Alive & 31.2\\\\\n",
       "\t Yes & Alive & 47.8\\\\\n",
       "\t Yes & Alive & 60.9\\\\\n",
       "\t No  & Dead  & 61.4\\\\\n",
       "\t Yes & Alive & 43.0\\\\\n",
       "\t No  & Alive & 42.1\\\\\n",
       "\t Yes & Alive & 35.9\\\\\n",
       "\t No  & Alive & 22.3\\\\\n",
       "\t Yes & Dead  & 62.1\\\\\n",
       "\t No  & Dead  & 88.6\\\\\n",
       "\t No  & Alive & 39.1\\\\\n",
       "\\end{tabular}\n"
      ],
      "text/markdown": [
       "\n",
       "A data.frame: 1314 × 3\n",
       "\n",
       "| Smoker &lt;chr&gt; | Status &lt;chr&gt; | Age &lt;dbl&gt; |\n",
       "|---|---|---|\n",
       "| Yes | Alive | 21.0 |\n",
       "| Yes | Alive | 19.3 |\n",
       "| No  | Dead  | 57.5 |\n",
       "| No  | Alive | 47.1 |\n",
       "| Yes | Alive | 81.4 |\n",
       "| No  | Alive | 36.8 |\n",
       "| No  | Alive | 23.8 |\n",
       "| Yes | Dead  | 57.5 |\n",
       "| Yes | Alive | 24.8 |\n",
       "| Yes | Alive | 49.5 |\n",
       "| Yes | Alive | 30.0 |\n",
       "| No  | Dead  | 66.0 |\n",
       "| Yes | Alive | 49.2 |\n",
       "| No  | Alive | 58.4 |\n",
       "| No  | Dead  | 60.6 |\n",
       "| No  | Alive | 25.1 |\n",
       "| No  | Alive | 43.5 |\n",
       "| No  | Alive | 27.1 |\n",
       "| No  | Alive | 58.3 |\n",
       "| Yes | Alive | 65.7 |\n",
       "| No  | Dead  | 73.2 |\n",
       "| Yes | Alive | 38.3 |\n",
       "| No  | Alive | 33.4 |\n",
       "| Yes | Dead  | 62.3 |\n",
       "| No  | Alive | 18.0 |\n",
       "| No  | Alive | 56.2 |\n",
       "| Yes | Alive | 59.2 |\n",
       "| No  | Alive | 25.8 |\n",
       "| No  | Dead  | 36.9 |\n",
       "| No  | Alive | 20.2 |\n",
       "| ⋮ | ⋮ | ⋮ |\n",
       "| Yes | Dead  | 36.0 |\n",
       "| Yes | Alive | 48.3 |\n",
       "| No  | Alive | 63.1 |\n",
       "| No  | Alive | 60.8 |\n",
       "| Yes | Dead  | 39.3 |\n",
       "| No  | Alive | 36.7 |\n",
       "| No  | Alive | 63.8 |\n",
       "| No  | Dead  | 71.3 |\n",
       "| No  | Alive | 57.7 |\n",
       "| No  | Alive | 63.2 |\n",
       "| No  | Alive | 46.6 |\n",
       "| Yes | Dead  | 82.4 |\n",
       "| Yes | Alive | 38.3 |\n",
       "| Yes | Alive | 32.7 |\n",
       "| No  | Alive | 39.7 |\n",
       "| Yes | Dead  | 60.0 |\n",
       "| No  | Dead  | 71.0 |\n",
       "| No  | Alive | 20.5 |\n",
       "| No  | Alive | 44.4 |\n",
       "| Yes | Alive | 31.2 |\n",
       "| Yes | Alive | 47.8 |\n",
       "| Yes | Alive | 60.9 |\n",
       "| No  | Dead  | 61.4 |\n",
       "| Yes | Alive | 43.0 |\n",
       "| No  | Alive | 42.1 |\n",
       "| Yes | Alive | 35.9 |\n",
       "| No  | Alive | 22.3 |\n",
       "| Yes | Dead  | 62.1 |\n",
       "| No  | Dead  | 88.6 |\n",
       "| No  | Alive | 39.1 |\n",
       "\n"
      ],
      "text/plain": [
       "     Smoker Status Age \n",
       "1    Yes    Alive  21.0\n",
       "2    Yes    Alive  19.3\n",
       "3    No     Dead   57.5\n",
       "4    No     Alive  47.1\n",
       "5    Yes    Alive  81.4\n",
       "6    No     Alive  36.8\n",
       "7    No     Alive  23.8\n",
       "8    Yes    Dead   57.5\n",
       "9    Yes    Alive  24.8\n",
       "10   Yes    Alive  49.5\n",
       "11   Yes    Alive  30.0\n",
       "12   No     Dead   66.0\n",
       "13   Yes    Alive  49.2\n",
       "14   No     Alive  58.4\n",
       "15   No     Dead   60.6\n",
       "16   No     Alive  25.1\n",
       "17   No     Alive  43.5\n",
       "18   No     Alive  27.1\n",
       "19   No     Alive  58.3\n",
       "20   Yes    Alive  65.7\n",
       "21   No     Dead   73.2\n",
       "22   Yes    Alive  38.3\n",
       "23   No     Alive  33.4\n",
       "24   Yes    Dead   62.3\n",
       "25   No     Alive  18.0\n",
       "26   No     Alive  56.2\n",
       "27   Yes    Alive  59.2\n",
       "28   No     Alive  25.8\n",
       "29   No     Dead   36.9\n",
       "30   No     Alive  20.2\n",
       "⋮    ⋮      ⋮      ⋮   \n",
       "1285 Yes    Dead   36.0\n",
       "1286 Yes    Alive  48.3\n",
       "1287 No     Alive  63.1\n",
       "1288 No     Alive  60.8\n",
       "1289 Yes    Dead   39.3\n",
       "1290 No     Alive  36.7\n",
       "1291 No     Alive  63.8\n",
       "1292 No     Dead   71.3\n",
       "1293 No     Alive  57.7\n",
       "1294 No     Alive  63.2\n",
       "1295 No     Alive  46.6\n",
       "1296 Yes    Dead   82.4\n",
       "1297 Yes    Alive  38.3\n",
       "1298 Yes    Alive  32.7\n",
       "1299 No     Alive  39.7\n",
       "1300 Yes    Dead   60.0\n",
       "1301 No     Dead   71.0\n",
       "1302 No     Alive  20.5\n",
       "1303 No     Alive  44.4\n",
       "1304 Yes    Alive  31.2\n",
       "1305 Yes    Alive  47.8\n",
       "1306 Yes    Alive  60.9\n",
       "1307 No     Dead   61.4\n",
       "1308 Yes    Alive  43.0\n",
       "1309 No     Alive  42.1\n",
       "1310 Yes    Alive  35.9\n",
       "1311 No     Alive  22.3\n",
       "1312 Yes    Dead   62.1\n",
       "1313 No     Dead   88.6\n",
       "1314 No     Alive  39.1"
      ]
     },
     "metadata": {},
     "output_type": "display_data"
    }
   ],
   "source": [
    "df <- read.csv(\"Subject6_smoking.csv\")\n",
    "df"
   ]
  },
  {
   "cell_type": "markdown",
   "id": "fae900a9",
   "metadata": {},
   "source": [
    "As we can see, the dataset is composed of 1314 rows with three columns: Smoker (bool), Status (bool) and Age (Double). Besides, as we can see below, it seems that there's no missing data, and the age of the participants is well distributed, going from 18 years old to 89, with a mean of 47 years old. "
   ]
  },
  {
   "cell_type": "code",
   "execution_count": 4,
   "id": "25fc1f45",
   "metadata": {
    "scrolled": true
   },
   "outputs": [
    {
     "data": {
      "text/plain": [
       "    Smoker             Status               Age       \n",
       " Length:1314        Length:1314        Min.   :18.00  \n",
       " Class :character   Class :character   1st Qu.:31.30  \n",
       " Mode  :character   Mode  :character   Median :44.80  \n",
       "                                       Mean   :47.36  \n",
       "                                       3rd Qu.:60.60  \n",
       "                                       Max.   :89.90  "
      ]
     },
     "metadata": {},
     "output_type": "display_data"
    }
   ],
   "source": [
    "summary(df)"
   ]
  },
  {
   "cell_type": "markdown",
   "id": "0aab75ab",
   "metadata": {},
   "source": [
    "Let's use the libraries **dplyr** and **ggplot2** to get a general view from this data. "
   ]
  },
  {
   "cell_type": "markdown",
   "id": "bd2355fa",
   "metadata": {},
   "source": [
    "## Task 1:\n",
    "\n",
    "Tabulate the total number of women alive and dead over the period according to their smoking habits. Calculate in each group (smoking/non-smoking) the mortality rate (the ratio of the number of women who died in a group to the total number of women in that group). You can graph these data and calculate confidence intervals if you wish. Why is this result surprising?"
   ]
  },
  {
   "cell_type": "code",
   "execution_count": 5,
   "id": "4fab561c",
   "metadata": {},
   "outputs": [
    {
     "name": "stderr",
     "output_type": "stream",
     "text": [
      "\n",
      "Attaching package: ‘dplyr’\n",
      "\n",
      "\n",
      "The following objects are masked from ‘package:stats’:\n",
      "\n",
      "    filter, lag\n",
      "\n",
      "\n",
      "The following objects are masked from ‘package:base’:\n",
      "\n",
      "    intersect, setdiff, setequal, union\n",
      "\n",
      "\n"
     ]
    }
   ],
   "source": [
    "library(dplyr)\n",
    "library(ggplot2)\n",
    "\n",
    "# Calculates mortality ratios for smoking and non smoking women.\n",
    "\n",
    "mortality_smoking = df %>% \n",
    "    filter(Smoker == \"Yes\") %>%\n",
    "    summarise(ratio = 100 * mean(Status == \"Dead\"))\n",
    "\n",
    "mortality_not_smoking = df %>%\n",
    "    filter(Smoker == \"No\") %>%\n",
    "    summarise(ratio = 100 * mean(Status == \"Dead\"))"
   ]
  },
  {
   "cell_type": "code",
   "execution_count": 110,
   "id": "1a678ff9",
   "metadata": {
    "scrolled": true
   },
   "outputs": [
    {
     "data": {
      "image/png": "[encoded data removed]",
      "text/plain": [
       "Plot with title “Mortality - non smoking women”"
      ]
     },
     "metadata": {
      "image/png": {
       "height": 420,
       "width": 420
      }
     },
     "output_type": "display_data"
    }
   ],
   "source": [
    "# Builds pie charts to represent mortality among smoking and non smoking women.\n",
    "\n",
    "smoking_data <- c(mortality_smoking[,1], 100-mortality_smoking[,1])\n",
    "labels <- c(\"Dead\", \"Alive\")\n",
    "smoking_percentages <- round(smoking_data/sum(smoking_data)*100)\n",
    "smoking_labels <- paste(labels, smoking_percentages)\n",
    "smoking_labels <- paste(smoking_labels, \"%\", sep=\"\")\n",
    "\n",
    "not_smoking_data = c(mortality_not_smoking[,1], 100-mortality_not_smoking[,1])\n",
    "not_smoking_percentages <-round(not_smoking_data/sum(not_smoking_data)*100)\n",
    "not_smoking_labels <- paste(labels, not_smoking_percentages)\n",
    "not_smoking_labels <- paste(not_smoking_labels, \"%\", sep=\"\")\n",
    "\n",
    "par(mfrow=c(1,2)) \n",
    "\n",
    "pie(smoking_data, labels = smoking_labels, col=rainbow(length(smoking_labels)), main=\"Mortality - smoking women\")\n",
    "pie(not_smoking_data, labels = not_smoking_labels, col=rainbow(length(labels)), main=\"Mortality - non smoking women\")"
   ]
  },
  {
   "cell_type": "markdown",
   "id": "78bd01fc",
   "metadata": {},
   "source": [
    "As we can see, the mortality among smoking women is actually lower than among non smoking women! If we stopped the analysis here, we could think that smoking is actually good for their health, and therefore the women that smoked lived more. However, let's analyse the data in depth to better understand our results.\n",
    "\n",
    "We will now analyse the confidence interval of the data."
   ]
  },
  {
   "cell_type": "code",
   "execution_count": 37,
   "id": "b41f0059",
   "metadata": {},
   "outputs": [
    {
     "data": {
      "text/html": [
       "0.426736415314407"
      ],
      "text/latex": [
       "0.426736415314407"
      ],
      "text/markdown": [
       "0.426736415314407"
      ],
      "text/plain": [
       "[1] 0.4267364"
      ]
     },
     "metadata": {},
     "output_type": "display_data"
    },
    {
     "data": {
      "text/html": [
       "0.464516930488226"
      ],
      "text/latex": [
       "0.464516930488226"
      ],
      "text/markdown": [
       "0.464516930488226"
      ],
      "text/plain": [
       "[1] 0.4645169"
      ]
     },
     "metadata": {},
     "output_type": "display_data"
    }
   ],
   "source": [
    "# First, calculating the standard deviation of the smokers.\n",
    "\n",
    "smokers <- df[df$Smoker == \"Yes\",]$Status\n",
    "smokers = gsub('Alive', 1, smokers)\n",
    "smokers = gsub('Dead', 0, smokers)\n",
    "\n",
    "sd(smokers)\n",
    "\n",
    "# Then, calculating the standard deviation of the non smokers\n",
    "\n",
    "non_smokers <- df[df$Smoker == \"No\",]$Status \n",
    "non_smokers = gsub('Alive', 1, non_smokers)\n",
    "non_smokers = gsub('Dead', 0, non_smokers)\n",
    "\n",
    "sd(non_smokers)"
   ]
  },
  {
   "cell_type": "code",
   "execution_count": 43,
   "id": "27bd3232",
   "metadata": {
    "scrolled": true
   },
   "outputs": [
    {
     "data": {
      "text/html": [
       "<style>\n",
       ".list-inline {list-style: none; margin:0; padding: 0}\n",
       ".list-inline>li {display: inline-block}\n",
       ".list-inline>li:not(:last-child)::after {content: \"\\00b7\"; padding: 0 .5ex}\n",
       "</style>\n",
       "<ol class=list-inline><li>23.8477839249942</li><li>23.9185390990608</li></ol>\n"
      ],
      "text/latex": [
       "\\begin{enumerate*}\n",
       "\\item 23.8477839249942\n",
       "\\item 23.9185390990608\n",
       "\\end{enumerate*}\n"
      ],
      "text/markdown": [
       "1. 23.8477839249942\n",
       "2. 23.9185390990608\n",
       "\n",
       "\n"
      ],
      "text/plain": [
       "[1] 23.84778 23.91854"
      ]
     },
     "metadata": {},
     "output_type": "display_data"
    },
    {
     "data": {
      "text/html": [
       "<style>\n",
       ".list-inline {list-style: none; margin:0; padding: 0}\n",
       ".list-inline>li {display: inline-block}\n",
       ".list-inline>li:not(:last-child)::after {content: \"\\00b7\"; padding: 0 .5ex}\n",
       "</style>\n",
       "<ol class=list-inline><li>31.3864269477489</li><li>31.4551031068959</li></ol>\n"
      ],
      "text/latex": [
       "\\begin{enumerate*}\n",
       "\\item 31.3864269477489\n",
       "\\item 31.4551031068959\n",
       "\\end{enumerate*}\n"
      ],
      "text/markdown": [
       "1. 31.3864269477489\n",
       "2. 31.4551031068959\n",
       "\n",
       "\n"
      ],
      "text/plain": [
       "[1] 31.38643 31.45510"
      ]
     },
     "metadata": {},
     "output_type": "display_data"
    }
   ],
   "source": [
    "# Now, let's calculate the confidence interval for smokers and non smokers\n",
    "\n",
    "smokers_conf_interval <- 2 * (sd(smokers)  / sqrt(length(smokers)))\n",
    "non_smokers_conf_interval <- 2 * (sd(non_smokers) / sqrt(length(non_smokers)))\n",
    "\n",
    "c(mortality_smoking[,1] - smokers_conf_interval, mortality_smoking[,1] + smokers_conf_interval)\n",
    "c(mortality_not_smoking[,1] - non_smokers_conf_interval, mortality_not_smoking[,1] + non_smokers_conf_interval)"
   ]
  },
  {
   "cell_type": "markdown",
   "id": "2eb2f047",
   "metadata": {},
   "source": [
    "### Conclusion:\n",
    "\n",
    "As we can see, we can confirm with more than 90% confidence level that the smokers death ratio is lower than the non smokers one. \n",
    "\n",
    "For smokers, the death ratio with the confidence interval varies from 23.84 to 23.91, while for non smokers it varies from 31.38 to 31.45.\n",
    "\n",
    "Those values are surprising, since we would usually expect the smokers to have a shorter lifetime. This difference might be explained if we analyse the age groups of the alive and dead women!"
   ]
  },
  {
   "cell_type": "markdown",
   "id": "35b5db24",
   "metadata": {},
   "source": [
    "## Task 2:\n",
    "\n",
    "Go back to question 1 (numbers and mortality rates) and add a new category related to the age group. For example, the following classes will be considered: 18-34 years, 34-54 years, 55-64 years, over 65 years.\n",
    "\n",
    "Why is this result surprising? Can you explain this paradox? Similarly, you may wish to provide a graphical representation of the data to support your explanations.\n"
   ]
  },
  {
   "cell_type": "code",
   "execution_count": 112,
   "id": "79be08fb",
   "metadata": {},
   "outputs": [
    {
     "data": {
      "text/html": [
       "<table class=\"dataframe\">\n",
       "<caption>A data.frame: 1314 × 4</caption>\n",
       "<thead>\n",
       "\t<tr><th scope=col>Smoker</th><th scope=col>Status</th><th scope=col>Age</th><th scope=col>Age_group</th></tr>\n",
       "\t<tr><th scope=col>&lt;chr&gt;</th><th scope=col>&lt;chr&gt;</th><th scope=col>&lt;dbl&gt;</th><th scope=col>&lt;chr&gt;</th></tr>\n",
       "</thead>\n",
       "<tbody>\n",
       "\t<tr><td>Yes</td><td>Alive</td><td>21.0</td><td>18-34</td></tr>\n",
       "\t<tr><td>Yes</td><td>Alive</td><td>19.3</td><td>18-34</td></tr>\n",
       "\t<tr><td>No </td><td>Dead </td><td>57.5</td><td>54-65</td></tr>\n",
       "\t<tr><td>No </td><td>Alive</td><td>47.1</td><td>34-54</td></tr>\n",
       "\t<tr><td>Yes</td><td>Alive</td><td>81.4</td><td>65+  </td></tr>\n",
       "\t<tr><td>No </td><td>Alive</td><td>36.8</td><td>34-54</td></tr>\n",
       "\t<tr><td>No </td><td>Alive</td><td>23.8</td><td>18-34</td></tr>\n",
       "\t<tr><td>Yes</td><td>Dead </td><td>57.5</td><td>54-65</td></tr>\n",
       "\t<tr><td>Yes</td><td>Alive</td><td>24.8</td><td>18-34</td></tr>\n",
       "\t<tr><td>Yes</td><td>Alive</td><td>49.5</td><td>34-54</td></tr>\n",
       "\t<tr><td>Yes</td><td>Alive</td><td>30.0</td><td>18-34</td></tr>\n",
       "\t<tr><td>No </td><td>Dead </td><td>66.0</td><td>65+  </td></tr>\n",
       "\t<tr><td>Yes</td><td>Alive</td><td>49.2</td><td>34-54</td></tr>\n",
       "\t<tr><td>No </td><td>Alive</td><td>58.4</td><td>54-65</td></tr>\n",
       "\t<tr><td>No </td><td>Dead </td><td>60.6</td><td>54-65</td></tr>\n",
       "\t<tr><td>No </td><td>Alive</td><td>25.1</td><td>18-34</td></tr>\n",
       "\t<tr><td>No </td><td>Alive</td><td>43.5</td><td>34-54</td></tr>\n",
       "\t<tr><td>No </td><td>Alive</td><td>27.1</td><td>18-34</td></tr>\n",
       "\t<tr><td>No </td><td>Alive</td><td>58.3</td><td>54-65</td></tr>\n",
       "\t<tr><td>Yes</td><td>Alive</td><td>65.7</td><td>65+  </td></tr>\n",
       "\t<tr><td>No </td><td>Dead </td><td>73.2</td><td>65+  </td></tr>\n",
       "\t<tr><td>Yes</td><td>Alive</td><td>38.3</td><td>34-54</td></tr>\n",
       "\t<tr><td>No </td><td>Alive</td><td>33.4</td><td>18-34</td></tr>\n",
       "\t<tr><td>Yes</td><td>Dead </td><td>62.3</td><td>54-65</td></tr>\n",
       "\t<tr><td>No </td><td>Alive</td><td>18.0</td><td>18-34</td></tr>\n",
       "\t<tr><td>No </td><td>Alive</td><td>56.2</td><td>54-65</td></tr>\n",
       "\t<tr><td>Yes</td><td>Alive</td><td>59.2</td><td>54-65</td></tr>\n",
       "\t<tr><td>No </td><td>Alive</td><td>25.8</td><td>18-34</td></tr>\n",
       "\t<tr><td>No </td><td>Dead </td><td>36.9</td><td>34-54</td></tr>\n",
       "\t<tr><td>No </td><td>Alive</td><td>20.2</td><td>18-34</td></tr>\n",
       "\t<tr><td>⋮</td><td>⋮</td><td>⋮</td><td>⋮</td></tr>\n",
       "\t<tr><td>Yes</td><td>Dead </td><td>36.0</td><td>34-54</td></tr>\n",
       "\t<tr><td>Yes</td><td>Alive</td><td>48.3</td><td>34-54</td></tr>\n",
       "\t<tr><td>No </td><td>Alive</td><td>63.1</td><td>54-65</td></tr>\n",
       "\t<tr><td>No </td><td>Alive</td><td>60.8</td><td>54-65</td></tr>\n",
       "\t<tr><td>Yes</td><td>Dead </td><td>39.3</td><td>34-54</td></tr>\n",
       "\t<tr><td>No </td><td>Alive</td><td>36.7</td><td>34-54</td></tr>\n",
       "\t<tr><td>No </td><td>Alive</td><td>63.8</td><td>54-65</td></tr>\n",
       "\t<tr><td>No </td><td>Dead </td><td>71.3</td><td>65+  </td></tr>\n",
       "\t<tr><td>No </td><td>Alive</td><td>57.7</td><td>54-65</td></tr>\n",
       "\t<tr><td>No </td><td>Alive</td><td>63.2</td><td>54-65</td></tr>\n",
       "\t<tr><td>No </td><td>Alive</td><td>46.6</td><td>34-54</td></tr>\n",
       "\t<tr><td>Yes</td><td>Dead </td><td>82.4</td><td>65+  </td></tr>\n",
       "\t<tr><td>Yes</td><td>Alive</td><td>38.3</td><td>34-54</td></tr>\n",
       "\t<tr><td>Yes</td><td>Alive</td><td>32.7</td><td>18-34</td></tr>\n",
       "\t<tr><td>No </td><td>Alive</td><td>39.7</td><td>34-54</td></tr>\n",
       "\t<tr><td>Yes</td><td>Dead </td><td>60.0</td><td>54-65</td></tr>\n",
       "\t<tr><td>No </td><td>Dead </td><td>71.0</td><td>65+  </td></tr>\n",
       "\t<tr><td>No </td><td>Alive</td><td>20.5</td><td>18-34</td></tr>\n",
       "\t<tr><td>No </td><td>Alive</td><td>44.4</td><td>34-54</td></tr>\n",
       "\t<tr><td>Yes</td><td>Alive</td><td>31.2</td><td>18-34</td></tr>\n",
       "\t<tr><td>Yes</td><td>Alive</td><td>47.8</td><td>34-54</td></tr>\n",
       "\t<tr><td>Yes</td><td>Alive</td><td>60.9</td><td>54-65</td></tr>\n",
       "\t<tr><td>No </td><td>Dead </td><td>61.4</td><td>54-65</td></tr>\n",
       "\t<tr><td>Yes</td><td>Alive</td><td>43.0</td><td>34-54</td></tr>\n",
       "\t<tr><td>No </td><td>Alive</td><td>42.1</td><td>34-54</td></tr>\n",
       "\t<tr><td>Yes</td><td>Alive</td><td>35.9</td><td>34-54</td></tr>\n",
       "\t<tr><td>No </td><td>Alive</td><td>22.3</td><td>18-34</td></tr>\n",
       "\t<tr><td>Yes</td><td>Dead </td><td>62.1</td><td>54-65</td></tr>\n",
       "\t<tr><td>No </td><td>Dead </td><td>88.6</td><td>65+  </td></tr>\n",
       "\t<tr><td>No </td><td>Alive</td><td>39.1</td><td>34-54</td></tr>\n",
       "</tbody>\n",
       "</table>\n"
      ],
      "text/latex": [
       "A data.frame: 1314 × 4\n",
       "\\begin{tabular}{llll}\n",
       " Smoker & Status & Age & Age\\_group\\\\\n",
       " <chr> & <chr> & <dbl> & <chr>\\\\\n",
       "\\hline\n",
       "\t Yes & Alive & 21.0 & 18-34\\\\\n",
       "\t Yes & Alive & 19.3 & 18-34\\\\\n",
       "\t No  & Dead  & 57.5 & 54-65\\\\\n",
       "\t No  & Alive & 47.1 & 34-54\\\\\n",
       "\t Yes & Alive & 81.4 & 65+  \\\\\n",
       "\t No  & Alive & 36.8 & 34-54\\\\\n",
       "\t No  & Alive & 23.8 & 18-34\\\\\n",
       "\t Yes & Dead  & 57.5 & 54-65\\\\\n",
       "\t Yes & Alive & 24.8 & 18-34\\\\\n",
       "\t Yes & Alive & 49.5 & 34-54\\\\\n",
       "\t Yes & Alive & 30.0 & 18-34\\\\\n",
       "\t No  & Dead  & 66.0 & 65+  \\\\\n",
       "\t Yes & Alive & 49.2 & 34-54\\\\\n",
       "\t No  & Alive & 58.4 & 54-65\\\\\n",
       "\t No  & Dead  & 60.6 & 54-65\\\\\n",
       "\t No  & Alive & 25.1 & 18-34\\\\\n",
       "\t No  & Alive & 43.5 & 34-54\\\\\n",
       "\t No  & Alive & 27.1 & 18-34\\\\\n",
       "\t No  & Alive & 58.3 & 54-65\\\\\n",
       "\t Yes & Alive & 65.7 & 65+  \\\\\n",
       "\t No  & Dead  & 73.2 & 65+  \\\\\n",
       "\t Yes & Alive & 38.3 & 34-54\\\\\n",
       "\t No  & Alive & 33.4 & 18-34\\\\\n",
       "\t Yes & Dead  & 62.3 & 54-65\\\\\n",
       "\t No  & Alive & 18.0 & 18-34\\\\\n",
       "\t No  & Alive & 56.2 & 54-65\\\\\n",
       "\t Yes & Alive & 59.2 & 54-65\\\\\n",
       "\t No  & Alive & 25.8 & 18-34\\\\\n",
       "\t No  & Dead  & 36.9 & 34-54\\\\\n",
       "\t No  & Alive & 20.2 & 18-34\\\\\n",
       "\t ⋮ & ⋮ & ⋮ & ⋮\\\\\n",
       "\t Yes & Dead  & 36.0 & 34-54\\\\\n",
       "\t Yes & Alive & 48.3 & 34-54\\\\\n",
       "\t No  & Alive & 63.1 & 54-65\\\\\n",
       "\t No  & Alive & 60.8 & 54-65\\\\\n",
       "\t Yes & Dead  & 39.3 & 34-54\\\\\n",
       "\t No  & Alive & 36.7 & 34-54\\\\\n",
       "\t No  & Alive & 63.8 & 54-65\\\\\n",
       "\t No  & Dead  & 71.3 & 65+  \\\\\n",
       "\t No  & Alive & 57.7 & 54-65\\\\\n",
       "\t No  & Alive & 63.2 & 54-65\\\\\n",
       "\t No  & Alive & 46.6 & 34-54\\\\\n",
       "\t Yes & Dead  & 82.4 & 65+  \\\\\n",
       "\t Yes & Alive & 38.3 & 34-54\\\\\n",
       "\t Yes & Alive & 32.7 & 18-34\\\\\n",
       "\t No  & Alive & 39.7 & 34-54\\\\\n",
       "\t Yes & Dead  & 60.0 & 54-65\\\\\n",
       "\t No  & Dead  & 71.0 & 65+  \\\\\n",
       "\t No  & Alive & 20.5 & 18-34\\\\\n",
       "\t No  & Alive & 44.4 & 34-54\\\\\n",
       "\t Yes & Alive & 31.2 & 18-34\\\\\n",
       "\t Yes & Alive & 47.8 & 34-54\\\\\n",
       "\t Yes & Alive & 60.9 & 54-65\\\\\n",
       "\t No  & Dead  & 61.4 & 54-65\\\\\n",
       "\t Yes & Alive & 43.0 & 34-54\\\\\n",
       "\t No  & Alive & 42.1 & 34-54\\\\\n",
       "\t Yes & Alive & 35.9 & 34-54\\\\\n",
       "\t No  & Alive & 22.3 & 18-34\\\\\n",
       "\t Yes & Dead  & 62.1 & 54-65\\\\\n",
       "\t No  & Dead  & 88.6 & 65+  \\\\\n",
       "\t No  & Alive & 39.1 & 34-54\\\\\n",
       "\\end{tabular}\n"
      ],
      "text/markdown": [
       "\n",
       "A data.frame: 1314 × 4\n",
       "\n",
       "| Smoker &lt;chr&gt; | Status &lt;chr&gt; | Age &lt;dbl&gt; | Age_group &lt;chr&gt; |\n",
       "|---|---|---|---|\n",
       "| Yes | Alive | 21.0 | 18-34 |\n",
       "| Yes | Alive | 19.3 | 18-34 |\n",
       "| No  | Dead  | 57.5 | 54-65 |\n",
       "| No  | Alive | 47.1 | 34-54 |\n",
       "| Yes | Alive | 81.4 | 65+   |\n",
       "| No  | Alive | 36.8 | 34-54 |\n",
       "| No  | Alive | 23.8 | 18-34 |\n",
       "| Yes | Dead  | 57.5 | 54-65 |\n",
       "| Yes | Alive | 24.8 | 18-34 |\n",
       "| Yes | Alive | 49.5 | 34-54 |\n",
       "| Yes | Alive | 30.0 | 18-34 |\n",
       "| No  | Dead  | 66.0 | 65+   |\n",
       "| Yes | Alive | 49.2 | 34-54 |\n",
       "| No  | Alive | 58.4 | 54-65 |\n",
       "| No  | Dead  | 60.6 | 54-65 |\n",
       "| No  | Alive | 25.1 | 18-34 |\n",
       "| No  | Alive | 43.5 | 34-54 |\n",
       "| No  | Alive | 27.1 | 18-34 |\n",
       "| No  | Alive | 58.3 | 54-65 |\n",
       "| Yes | Alive | 65.7 | 65+   |\n",
       "| No  | Dead  | 73.2 | 65+   |\n",
       "| Yes | Alive | 38.3 | 34-54 |\n",
       "| No  | Alive | 33.4 | 18-34 |\n",
       "| Yes | Dead  | 62.3 | 54-65 |\n",
       "| No  | Alive | 18.0 | 18-34 |\n",
       "| No  | Alive | 56.2 | 54-65 |\n",
       "| Yes | Alive | 59.2 | 54-65 |\n",
       "| No  | Alive | 25.8 | 18-34 |\n",
       "| No  | Dead  | 36.9 | 34-54 |\n",
       "| No  | Alive | 20.2 | 18-34 |\n",
       "| ⋮ | ⋮ | ⋮ | ⋮ |\n",
       "| Yes | Dead  | 36.0 | 34-54 |\n",
       "| Yes | Alive | 48.3 | 34-54 |\n",
       "| No  | Alive | 63.1 | 54-65 |\n",
       "| No  | Alive | 60.8 | 54-65 |\n",
       "| Yes | Dead  | 39.3 | 34-54 |\n",
       "| No  | Alive | 36.7 | 34-54 |\n",
       "| No  | Alive | 63.8 | 54-65 |\n",
       "| No  | Dead  | 71.3 | 65+   |\n",
       "| No  | Alive | 57.7 | 54-65 |\n",
       "| No  | Alive | 63.2 | 54-65 |\n",
       "| No  | Alive | 46.6 | 34-54 |\n",
       "| Yes | Dead  | 82.4 | 65+   |\n",
       "| Yes | Alive | 38.3 | 34-54 |\n",
       "| Yes | Alive | 32.7 | 18-34 |\n",
       "| No  | Alive | 39.7 | 34-54 |\n",
       "| Yes | Dead  | 60.0 | 54-65 |\n",
       "| No  | Dead  | 71.0 | 65+   |\n",
       "| No  | Alive | 20.5 | 18-34 |\n",
       "| No  | Alive | 44.4 | 34-54 |\n",
       "| Yes | Alive | 31.2 | 18-34 |\n",
       "| Yes | Alive | 47.8 | 34-54 |\n",
       "| Yes | Alive | 60.9 | 54-65 |\n",
       "| No  | Dead  | 61.4 | 54-65 |\n",
       "| Yes | Alive | 43.0 | 34-54 |\n",
       "| No  | Alive | 42.1 | 34-54 |\n",
       "| Yes | Alive | 35.9 | 34-54 |\n",
       "| No  | Alive | 22.3 | 18-34 |\n",
       "| Yes | Dead  | 62.1 | 54-65 |\n",
       "| No  | Dead  | 88.6 | 65+   |\n",
       "| No  | Alive | 39.1 | 34-54 |\n",
       "\n"
      ],
      "text/plain": [
       "     Smoker Status Age  Age_group\n",
       "1    Yes    Alive  21.0 18-34    \n",
       "2    Yes    Alive  19.3 18-34    \n",
       "3    No     Dead   57.5 54-65    \n",
       "4    No     Alive  47.1 34-54    \n",
       "5    Yes    Alive  81.4 65+      \n",
       "6    No     Alive  36.8 34-54    \n",
       "7    No     Alive  23.8 18-34    \n",
       "8    Yes    Dead   57.5 54-65    \n",
       "9    Yes    Alive  24.8 18-34    \n",
       "10   Yes    Alive  49.5 34-54    \n",
       "11   Yes    Alive  30.0 18-34    \n",
       "12   No     Dead   66.0 65+      \n",
       "13   Yes    Alive  49.2 34-54    \n",
       "14   No     Alive  58.4 54-65    \n",
       "15   No     Dead   60.6 54-65    \n",
       "16   No     Alive  25.1 18-34    \n",
       "17   No     Alive  43.5 34-54    \n",
       "18   No     Alive  27.1 18-34    \n",
       "19   No     Alive  58.3 54-65    \n",
       "20   Yes    Alive  65.7 65+      \n",
       "21   No     Dead   73.2 65+      \n",
       "22   Yes    Alive  38.3 34-54    \n",
       "23   No     Alive  33.4 18-34    \n",
       "24   Yes    Dead   62.3 54-65    \n",
       "25   No     Alive  18.0 18-34    \n",
       "26   No     Alive  56.2 54-65    \n",
       "27   Yes    Alive  59.2 54-65    \n",
       "28   No     Alive  25.8 18-34    \n",
       "29   No     Dead   36.9 34-54    \n",
       "30   No     Alive  20.2 18-34    \n",
       "⋮    ⋮      ⋮      ⋮    ⋮        \n",
       "1285 Yes    Dead   36.0 34-54    \n",
       "1286 Yes    Alive  48.3 34-54    \n",
       "1287 No     Alive  63.1 54-65    \n",
       "1288 No     Alive  60.8 54-65    \n",
       "1289 Yes    Dead   39.3 34-54    \n",
       "1290 No     Alive  36.7 34-54    \n",
       "1291 No     Alive  63.8 54-65    \n",
       "1292 No     Dead   71.3 65+      \n",
       "1293 No     Alive  57.7 54-65    \n",
       "1294 No     Alive  63.2 54-65    \n",
       "1295 No     Alive  46.6 34-54    \n",
       "1296 Yes    Dead   82.4 65+      \n",
       "1297 Yes    Alive  38.3 34-54    \n",
       "1298 Yes    Alive  32.7 18-34    \n",
       "1299 No     Alive  39.7 34-54    \n",
       "1300 Yes    Dead   60.0 54-65    \n",
       "1301 No     Dead   71.0 65+      \n",
       "1302 No     Alive  20.5 18-34    \n",
       "1303 No     Alive  44.4 34-54    \n",
       "1304 Yes    Alive  31.2 18-34    \n",
       "1305 Yes    Alive  47.8 34-54    \n",
       "1306 Yes    Alive  60.9 54-65    \n",
       "1307 No     Dead   61.4 54-65    \n",
       "1308 Yes    Alive  43.0 34-54    \n",
       "1309 No     Alive  42.1 34-54    \n",
       "1310 Yes    Alive  35.9 34-54    \n",
       "1311 No     Alive  22.3 18-34    \n",
       "1312 Yes    Dead   62.1 54-65    \n",
       "1313 No     Dead   88.6 65+      \n",
       "1314 No     Alive  39.1 34-54    "
      ]
     },
     "metadata": {},
     "output_type": "display_data"
    }
   ],
   "source": [
    "# First, let's build the new dataframe with a category related to the age group.\n",
    "\n",
    "df_by_age = df %>% mutate(Age_group = case_when(\n",
    "    df$Age >= 18.0 & df$Age < 34.0 ~ \"18-34\",\n",
    "    df$Age >= 34.0 & df$Age < 54.0 ~ \"34-54\",\n",
    "    df$Age >= 54.0 & df$Age < 65.0 ~ \"54-65\",\n",
    "    df$Age >= 65.0 ~ \"65+\",\n",
    ")) \n",
    "\n",
    "df_by_age\n"
   ]
  },
  {
   "cell_type": "code",
   "execution_count": 100,
   "id": "8305f2fc",
   "metadata": {
    "scrolled": true
   },
   "outputs": [
    {
     "data": {
      "image/png": "[encoded data removed]",
      "text/plain": [
       "plot without title"
      ]
     },
     "metadata": {
      "image/png": {
       "height": 420,
       "width": 420
      }
     },
     "output_type": "display_data"
    }
   ],
   "source": [
    "# Plotting \n",
    "ggplot(df_by_age) +\n",
    "  facet_grid(Smoker ~ Age_group, labeller = label_both) +\n",
    "  aes(x = Status, fill = Status) + \n",
    "  geom_bar() +\n",
    "  labs(x = \"\", y = \"\", fill = \"\", title = \"Death by age group\")\n"
   ]
  },
  {
   "cell_type": "markdown",
   "id": "8fe9e3de",
   "metadata": {},
   "source": [
    "Based on the graphs, we can see that the proportion of dead women increases with the age group. The older they get, the higher are the chances of dying, especially for the smokers population. Let's check the numbers just to be sure."
   ]
  },
  {
   "cell_type": "code",
   "execution_count": 109,
   "id": "3b351e95",
   "metadata": {
    "scrolled": true
   },
   "outputs": [
    {
     "name": "stderr",
     "output_type": "stream",
     "text": [
      "`summarise()` has grouped output by 'Smoker'. You can override using the `.groups` argument.\n",
      "\n"
     ]
    },
    {
     "data": {
      "text/html": [
       "<table class=\"dataframe\">\n",
       "<caption>A grouped_df: 8 × 5</caption>\n",
       "<thead>\n",
       "\t<tr><th scope=col>Smoker</th><th scope=col>Age_group</th><th scope=col>Alive</th><th scope=col>Dead</th><th scope=col>Death_mean</th></tr>\n",
       "\t<tr><th scope=col>&lt;chr&gt;</th><th scope=col>&lt;chr&gt;</th><th scope=col>&lt;int&gt;</th><th scope=col>&lt;int&gt;</th><th scope=col>&lt;dbl&gt;</th></tr>\n",
       "</thead>\n",
       "<tbody>\n",
       "\t<tr><td>No </td><td>18-34</td><td>213</td><td>  6</td><td>0.02739726</td></tr>\n",
       "\t<tr><td>No </td><td>34-54</td><td>180</td><td> 19</td><td>0.09547739</td></tr>\n",
       "\t<tr><td>No </td><td>54-65</td><td> 81</td><td> 40</td><td>0.33057851</td></tr>\n",
       "\t<tr><td>No </td><td>65+  </td><td> 28</td><td>165</td><td>0.85492228</td></tr>\n",
       "\t<tr><td>Yes</td><td>18-34</td><td>174</td><td>  5</td><td>0.02793296</td></tr>\n",
       "\t<tr><td>Yes</td><td>34-54</td><td>198</td><td> 41</td><td>0.17154812</td></tr>\n",
       "\t<tr><td>Yes</td><td>54-65</td><td> 64</td><td> 51</td><td>0.44347826</td></tr>\n",
       "\t<tr><td>Yes</td><td>65+  </td><td>  7</td><td> 42</td><td>0.85714286</td></tr>\n",
       "</tbody>\n",
       "</table>\n"
      ],
      "text/latex": [
       "A grouped\\_df: 8 × 5\n",
       "\\begin{tabular}{lllll}\n",
       " Smoker & Age\\_group & Alive & Dead & Death\\_mean\\\\\n",
       " <chr> & <chr> & <int> & <int> & <dbl>\\\\\n",
       "\\hline\n",
       "\t No  & 18-34 & 213 &   6 & 0.02739726\\\\\n",
       "\t No  & 34-54 & 180 &  19 & 0.09547739\\\\\n",
       "\t No  & 54-65 &  81 &  40 & 0.33057851\\\\\n",
       "\t No  & 65+   &  28 & 165 & 0.85492228\\\\\n",
       "\t Yes & 18-34 & 174 &   5 & 0.02793296\\\\\n",
       "\t Yes & 34-54 & 198 &  41 & 0.17154812\\\\\n",
       "\t Yes & 54-65 &  64 &  51 & 0.44347826\\\\\n",
       "\t Yes & 65+   &   7 &  42 & 0.85714286\\\\\n",
       "\\end{tabular}\n"
      ],
      "text/markdown": [
       "\n",
       "A grouped_df: 8 × 5\n",
       "\n",
       "| Smoker &lt;chr&gt; | Age_group &lt;chr&gt; | Alive &lt;int&gt; | Dead &lt;int&gt; | Death_mean &lt;dbl&gt; |\n",
       "|---|---|---|---|---|\n",
       "| No  | 18-34 | 213 |   6 | 0.02739726 |\n",
       "| No  | 34-54 | 180 |  19 | 0.09547739 |\n",
       "| No  | 54-65 |  81 |  40 | 0.33057851 |\n",
       "| No  | 65+   |  28 | 165 | 0.85492228 |\n",
       "| Yes | 18-34 | 174 |   5 | 0.02793296 |\n",
       "| Yes | 34-54 | 198 |  41 | 0.17154812 |\n",
       "| Yes | 54-65 |  64 |  51 | 0.44347826 |\n",
       "| Yes | 65+   |   7 |  42 | 0.85714286 |\n",
       "\n"
      ],
      "text/plain": [
       "  Smoker Age_group Alive Dead Death_mean\n",
       "1 No     18-34     213     6  0.02739726\n",
       "2 No     34-54     180    19  0.09547739\n",
       "3 No     54-65      81    40  0.33057851\n",
       "4 No     65+        28   165  0.85492228\n",
       "5 Yes    18-34     174     5  0.02793296\n",
       "6 Yes    34-54     198    41  0.17154812\n",
       "7 Yes    54-65      64    51  0.44347826\n",
       "8 Yes    65+         7    42  0.85714286"
      ]
     },
     "metadata": {},
     "output_type": "display_data"
    }
   ],
   "source": [
    "df_by_age %>%\n",
    "    group_by(Smoker, Age_group) %>%\n",
    "    summarise(Alive = sum(Status == \"Alive\"), Dead = sum(Status == \"Dead\"), Death_mean = mean(Status == \"Dead\"))"
   ]
  },
  {
   "cell_type": "markdown",
   "id": "aab887fa",
   "metadata": {},
   "source": [
    "### Conclusions\n",
    "\n",
    "Based on the table above, we notice that the biggest death gap happens in the 34-54 age group. For non smokers, 33% of this population was dead, and this number rises to 44% among smokers.\n",
    "\n",
    "Besides, it's important to remark that all age groups have a bigger death ratio for smokers, but, as we have seen before, the total average death is higher for non smokers. \n",
    "\n",
    "Let's do a logistic regression to understand that."
   ]
  },
  {
   "cell_type": "markdown",
   "id": "29de6bd4",
   "metadata": {},
   "source": [
    "## Task 3:\n",
    "\n",
    "In order to avoid a bias induced by arbitrary and non-regular age groupings, it is possible to try to perform a logistic regression. If we introduce a Death variable of 1 or 0 to indicate whether the individual died during the 20-year period, we can study the Death ~ Age model to study the probability of death as a function of age according to whether one considers the group of smokers or non-smokers. Do these regressions allow you to conclude or not on the harmfulness of smoking? You will be able to propose a graphical representation of these regressions (without omitting the regions of confidence)."
   ]
  },
  {
   "cell_type": "code",
   "execution_count": 216,
   "id": "0a19c9b5",
   "metadata": {},
   "outputs": [],
   "source": [
    "# First, let's introduce a variable of 1 or 0 to indicate whether the individual died during the 20-year period.\n",
    "\n",
    "# If the person is dead, we consider it as \"1\". If it is alive, we will consider as \"0\". \n",
    "df_Death = df %>% mutate(Death = case_when(\n",
    "    df$Status == \"Alive\" ~ 0,\n",
    "    df$Status == \"Dead\" ~ 1\n",
    "))"
   ]
  },
  {
   "cell_type": "code",
   "execution_count": 217,
   "id": "3edc0ef0",
   "metadata": {
    "scrolled": true
   },
   "outputs": [
    {
     "data": {
      "text/plain": [
       "\n",
       "Call:  glm(formula = Death ~ Age + Smoker, family = binomial, data = df_Death)\n",
       "\n",
       "Coefficients:\n",
       "(Intercept)          Age    SmokerYes  \n",
       "   -6.35187      0.09984      0.27865  \n",
       "\n",
       "Degrees of Freedom: 1313 Total (i.e. Null);  1311 Residual\n",
       "Null Deviance:\t    1560 \n",
       "Residual Deviance: 1002 \tAIC: 1008"
      ]
     },
     "metadata": {},
     "output_type": "display_data"
    }
   ],
   "source": [
    "regression = glm(Death ~ Age + Smoker, data = df_Death, family = binomial)\n",
    "\n",
    "regression"
   ]
  },
  {
   "cell_type": "markdown",
   "id": "53c98a71",
   "metadata": {},
   "source": [
    "----------\n",
    "Now that we created the regression model, let's plot it to have a clear visualisation. "
   ]
  },
  {
   "cell_type": "code",
   "execution_count": 227,
   "id": "1aff85e8",
   "metadata": {
    "scrolled": true
   },
   "outputs": [
    {
     "name": "stderr",
     "output_type": "stream",
     "text": [
      "`geom_smooth()` using formula 'y ~ x'\n",
      "\n"
     ]
    },
    {
     "data": {
      "image/png": "[encoded data removed]",
      "text/plain": [
       "plot without title"
      ]
     },
     "metadata": {
      "image/png": {
       "height": 420,
       "width": 420
      }
     },
     "output_type": "display_data"
    }
   ],
   "source": [
    "ggplot(df_Death) +\n",
    "    aes(x = Age, y = Death, group = Smoker) +\n",
    "    geom_smooth(method = \"glm\", level = .90, method.args = list(family=binomial), aes(color=Smoker, fill=Smoker)) +\n",
    "    ylab(\"Death percentage\")"
   ]
  },
  {
   "cell_type": "markdown",
   "id": "ff0ae925",
   "metadata": {},
   "source": [
    "Finally, the graph shows that the chances of dying are actually smaller for smokers as they age. Quite unexpected, no? \n",
    "\n",
    "In the beginning, the smokers have a higher mortality rate up to around their 70's, and then non smokers take the lead."
   ]
  },
  {
   "cell_type": "markdown",
   "id": "98320130",
   "metadata": {},
   "source": [
    "## Conclusion"
   ]
  },
  {
   "cell_type": "markdown",
   "id": "cb6f6e64",
   "metadata": {},
   "source": [
    "Finally, based on the three analysis we made, we can't conclude that smokers have a higher mortality ratio. Normally, we would expect the smokers to have a higher mortality ratio, but the dataset we have doesn't allow us to conclude that.\n",
    "\n",
    "The good news is that we learned that we have to be careful when using arbirtary and non regular groupings, since they can disfigure our data. We also learned how to perform logistic regressions, and how to visualize it in R. "
   ]
  },
  {
   "cell_type": "code",
   "execution_count": null,
   "id": "ed2755be",
   "metadata": {},
   "outputs": [],
   "source": []
  }
 ],
 "metadata": {
  "kernelspec": {
   "display_name": "R",
   "language": "R",
   "name": "ir"
  },
  "language_info": {
   "codemirror_mode": "r",
   "file_extension": ".r",
   "mimetype": "text/x-r-source",
   "name": "R",
   "pygments_lexer": "r",
   "version": "4.1.1"
  }
 },
 "nbformat": 4,
 "nbformat_minor": 5
}
